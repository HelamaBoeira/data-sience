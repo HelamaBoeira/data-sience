{
  "nbformat": 4,
  "nbformat_minor": 0,
  "metadata": {
    "colab": {
      "name": "exercicio_1.ipynb",
      "provenance": [],
      "authorship_tag": "ABX9TyMerCCMkHJkoJ6OfByWToQn",
      "include_colab_link": true
    },
    "kernelspec": {
      "name": "python3",
      "display_name": "Python 3"
    },
    "language_info": {
      "name": "python"
    }
  },
  "cells": [
    {
      "cell_type": "markdown",
      "metadata": {
        "id": "view-in-github",
        "colab_type": "text"
      },
      "source": [
        "<a href=\"https://colab.research.google.com/github/HelamaBoeira/data-sience/blob/main/NB_train.ipynb\" target=\"_parent\"><img src=\"https://colab.research.google.com/assets/colab-badge.svg\" alt=\"Open In Colab\"/></a>"
      ]
    },
    {
      "cell_type": "code",
      "execution_count": null,
      "metadata": {
        "id": "jWX-X4kK19ld"
      },
      "outputs": [],
      "source": [
        "# Autor: Helamã da Silva Boeira 30/04/2022"
      ]
    },
    {
      "cell_type": "code",
      "source": [
        "#Conjunto de importacoes\n",
        "import numpy as np\n",
        "import pandas as pd\n",
        "import matplotlib.pyplot as plt\n",
        "from sklearn.naive_bayes import MultinomialNB\n",
        "from sklearn.naive_bayes import GaussianNB\n",
        "from sklearn.metrics import accuracy_score\n",
        "from sklearn.model_selection import train_test_split"
      ],
      "metadata": {
        "id": "2bBeK1XO2WLY"
      },
      "execution_count": null,
      "outputs": []
    },
    {
      "cell_type": "code",
      "source": [
        "#Carrega o dataset com os dados para o treinamento e validacao\n",
        "dados_cryo_treino = pd.read_csv(\"dados_cryotherapy.csv\", encoding=\"utf-8\")"
      ],
      "metadata": {
        "id": "XEpamK5R2X4X"
      },
      "execution_count": null,
      "outputs": []
    },
    {
      "cell_type": "code",
      "source": [
        "dados_cryo_treino.shape"
      ],
      "metadata": {
        "colab": {
          "base_uri": "https://localhost:8080/"
        },
        "id": "ZvzSvzQ12dBv",
        "outputId": "15846515-e8a3-42dc-d22c-3a56f7fde749"
      },
      "execution_count": null,
      "outputs": [
        {
          "output_type": "execute_result",
          "data": {
            "text/plain": [
              "(90, 7)"
            ]
          },
          "metadata": {},
          "execution_count": 5
        }
      ]
    },
    {
      "cell_type": "code",
      "source": [
        "dados_cryo_treino.head(20)"
      ],
      "metadata": {
        "colab": {
          "base_uri": "https://localhost:8080/",
          "height": 677
        },
        "id": "fxQBRdax2tH3",
        "outputId": "642487ff-ddd1-418b-818a-9ee89a915543"
      },
      "execution_count": null,
      "outputs": [
        {
          "output_type": "execute_result",
          "data": {
            "text/plain": [
              "    Sexo  Idade  Tempo  Numero_Verrugas  Tipo  Area  Resultado_Tratamento\n",
              "0      1     35     12                5     1   100                     0\n",
              "1      1     29      7                5     1    96                     1\n",
              "2      1     50      8                1     3   132                     0\n",
              "3      1     32     11                7     3   750                     0\n",
              "4      1     67      9                1     1    42                     0\n",
              "5      1     41      8                2     2    20                     1\n",
              "6      1     36     11                2     1     8                     0\n",
              "7      1     59      3                3     3    20                     0\n",
              "8      1     20      4               12     1     6                     1\n",
              "9      2     34     11                3     3   150                     0\n",
              "10     2     21     10                5     1    35                     0\n",
              "11     2     15      6                2     1    30                     1\n",
              "12     2     15      2                3     1     4                     1\n",
              "13     2     15      3                2     3    70                     1\n",
              "14     2     17     11                2     1    10                     0\n",
              "15     2     17      3                3     1    63                     1\n",
              "16     2     23     11               12     3    72                     0\n",
              "17     2     27      8                2     1     6                     0\n",
              "18     2     15      4                1     1     6                     1\n",
              "19     2     18      5                1     1    80                     1"
            ],
            "text/html": [
              "\n",
              "  <div id=\"df-c94f45dc-4ecb-4ad7-8ffc-5e96cde70bcc\">\n",
              "    <div class=\"colab-df-container\">\n",
              "      <div>\n",
              "<style scoped>\n",
              "    .dataframe tbody tr th:only-of-type {\n",
              "        vertical-align: middle;\n",
              "    }\n",
              "\n",
              "    .dataframe tbody tr th {\n",
              "        vertical-align: top;\n",
              "    }\n",
              "\n",
              "    .dataframe thead th {\n",
              "        text-align: right;\n",
              "    }\n",
              "</style>\n",
              "<table border=\"1\" class=\"dataframe\">\n",
              "  <thead>\n",
              "    <tr style=\"text-align: right;\">\n",
              "      <th></th>\n",
              "      <th>Sexo</th>\n",
              "      <th>Idade</th>\n",
              "      <th>Tempo</th>\n",
              "      <th>Numero_Verrugas</th>\n",
              "      <th>Tipo</th>\n",
              "      <th>Area</th>\n",
              "      <th>Resultado_Tratamento</th>\n",
              "    </tr>\n",
              "  </thead>\n",
              "  <tbody>\n",
              "    <tr>\n",
              "      <th>0</th>\n",
              "      <td>1</td>\n",
              "      <td>35</td>\n",
              "      <td>12</td>\n",
              "      <td>5</td>\n",
              "      <td>1</td>\n",
              "      <td>100</td>\n",
              "      <td>0</td>\n",
              "    </tr>\n",
              "    <tr>\n",
              "      <th>1</th>\n",
              "      <td>1</td>\n",
              "      <td>29</td>\n",
              "      <td>7</td>\n",
              "      <td>5</td>\n",
              "      <td>1</td>\n",
              "      <td>96</td>\n",
              "      <td>1</td>\n",
              "    </tr>\n",
              "    <tr>\n",
              "      <th>2</th>\n",
              "      <td>1</td>\n",
              "      <td>50</td>\n",
              "      <td>8</td>\n",
              "      <td>1</td>\n",
              "      <td>3</td>\n",
              "      <td>132</td>\n",
              "      <td>0</td>\n",
              "    </tr>\n",
              "    <tr>\n",
              "      <th>3</th>\n",
              "      <td>1</td>\n",
              "      <td>32</td>\n",
              "      <td>11</td>\n",
              "      <td>7</td>\n",
              "      <td>3</td>\n",
              "      <td>750</td>\n",
              "      <td>0</td>\n",
              "    </tr>\n",
              "    <tr>\n",
              "      <th>4</th>\n",
              "      <td>1</td>\n",
              "      <td>67</td>\n",
              "      <td>9</td>\n",
              "      <td>1</td>\n",
              "      <td>1</td>\n",
              "      <td>42</td>\n",
              "      <td>0</td>\n",
              "    </tr>\n",
              "    <tr>\n",
              "      <th>5</th>\n",
              "      <td>1</td>\n",
              "      <td>41</td>\n",
              "      <td>8</td>\n",
              "      <td>2</td>\n",
              "      <td>2</td>\n",
              "      <td>20</td>\n",
              "      <td>1</td>\n",
              "    </tr>\n",
              "    <tr>\n",
              "      <th>6</th>\n",
              "      <td>1</td>\n",
              "      <td>36</td>\n",
              "      <td>11</td>\n",
              "      <td>2</td>\n",
              "      <td>1</td>\n",
              "      <td>8</td>\n",
              "      <td>0</td>\n",
              "    </tr>\n",
              "    <tr>\n",
              "      <th>7</th>\n",
              "      <td>1</td>\n",
              "      <td>59</td>\n",
              "      <td>3</td>\n",
              "      <td>3</td>\n",
              "      <td>3</td>\n",
              "      <td>20</td>\n",
              "      <td>0</td>\n",
              "    </tr>\n",
              "    <tr>\n",
              "      <th>8</th>\n",
              "      <td>1</td>\n",
              "      <td>20</td>\n",
              "      <td>4</td>\n",
              "      <td>12</td>\n",
              "      <td>1</td>\n",
              "      <td>6</td>\n",
              "      <td>1</td>\n",
              "    </tr>\n",
              "    <tr>\n",
              "      <th>9</th>\n",
              "      <td>2</td>\n",
              "      <td>34</td>\n",
              "      <td>11</td>\n",
              "      <td>3</td>\n",
              "      <td>3</td>\n",
              "      <td>150</td>\n",
              "      <td>0</td>\n",
              "    </tr>\n",
              "    <tr>\n",
              "      <th>10</th>\n",
              "      <td>2</td>\n",
              "      <td>21</td>\n",
              "      <td>10</td>\n",
              "      <td>5</td>\n",
              "      <td>1</td>\n",
              "      <td>35</td>\n",
              "      <td>0</td>\n",
              "    </tr>\n",
              "    <tr>\n",
              "      <th>11</th>\n",
              "      <td>2</td>\n",
              "      <td>15</td>\n",
              "      <td>6</td>\n",
              "      <td>2</td>\n",
              "      <td>1</td>\n",
              "      <td>30</td>\n",
              "      <td>1</td>\n",
              "    </tr>\n",
              "    <tr>\n",
              "      <th>12</th>\n",
              "      <td>2</td>\n",
              "      <td>15</td>\n",
              "      <td>2</td>\n",
              "      <td>3</td>\n",
              "      <td>1</td>\n",
              "      <td>4</td>\n",
              "      <td>1</td>\n",
              "    </tr>\n",
              "    <tr>\n",
              "      <th>13</th>\n",
              "      <td>2</td>\n",
              "      <td>15</td>\n",
              "      <td>3</td>\n",
              "      <td>2</td>\n",
              "      <td>3</td>\n",
              "      <td>70</td>\n",
              "      <td>1</td>\n",
              "    </tr>\n",
              "    <tr>\n",
              "      <th>14</th>\n",
              "      <td>2</td>\n",
              "      <td>17</td>\n",
              "      <td>11</td>\n",
              "      <td>2</td>\n",
              "      <td>1</td>\n",
              "      <td>10</td>\n",
              "      <td>0</td>\n",
              "    </tr>\n",
              "    <tr>\n",
              "      <th>15</th>\n",
              "      <td>2</td>\n",
              "      <td>17</td>\n",
              "      <td>3</td>\n",
              "      <td>3</td>\n",
              "      <td>1</td>\n",
              "      <td>63</td>\n",
              "      <td>1</td>\n",
              "    </tr>\n",
              "    <tr>\n",
              "      <th>16</th>\n",
              "      <td>2</td>\n",
              "      <td>23</td>\n",
              "      <td>11</td>\n",
              "      <td>12</td>\n",
              "      <td>3</td>\n",
              "      <td>72</td>\n",
              "      <td>0</td>\n",
              "    </tr>\n",
              "    <tr>\n",
              "      <th>17</th>\n",
              "      <td>2</td>\n",
              "      <td>27</td>\n",
              "      <td>8</td>\n",
              "      <td>2</td>\n",
              "      <td>1</td>\n",
              "      <td>6</td>\n",
              "      <td>0</td>\n",
              "    </tr>\n",
              "    <tr>\n",
              "      <th>18</th>\n",
              "      <td>2</td>\n",
              "      <td>15</td>\n",
              "      <td>4</td>\n",
              "      <td>1</td>\n",
              "      <td>1</td>\n",
              "      <td>6</td>\n",
              "      <td>1</td>\n",
              "    </tr>\n",
              "    <tr>\n",
              "      <th>19</th>\n",
              "      <td>2</td>\n",
              "      <td>18</td>\n",
              "      <td>5</td>\n",
              "      <td>1</td>\n",
              "      <td>1</td>\n",
              "      <td>80</td>\n",
              "      <td>1</td>\n",
              "    </tr>\n",
              "  </tbody>\n",
              "</table>\n",
              "</div>\n",
              "      <button class=\"colab-df-convert\" onclick=\"convertToInteractive('df-c94f45dc-4ecb-4ad7-8ffc-5e96cde70bcc')\"\n",
              "              title=\"Convert this dataframe to an interactive table.\"\n",
              "              style=\"display:none;\">\n",
              "        \n",
              "  <svg xmlns=\"http://www.w3.org/2000/svg\" height=\"24px\"viewBox=\"0 0 24 24\"\n",
              "       width=\"24px\">\n",
              "    <path d=\"M0 0h24v24H0V0z\" fill=\"none\"/>\n",
              "    <path d=\"M18.56 5.44l.94 2.06.94-2.06 2.06-.94-2.06-.94-.94-2.06-.94 2.06-2.06.94zm-11 1L8.5 8.5l.94-2.06 2.06-.94-2.06-.94L8.5 2.5l-.94 2.06-2.06.94zm10 10l.94 2.06.94-2.06 2.06-.94-2.06-.94-.94-2.06-.94 2.06-2.06.94z\"/><path d=\"M17.41 7.96l-1.37-1.37c-.4-.4-.92-.59-1.43-.59-.52 0-1.04.2-1.43.59L10.3 9.45l-7.72 7.72c-.78.78-.78 2.05 0 2.83L4 21.41c.39.39.9.59 1.41.59.51 0 1.02-.2 1.41-.59l7.78-7.78 2.81-2.81c.8-.78.8-2.07 0-2.86zM5.41 20L4 18.59l7.72-7.72 1.47 1.35L5.41 20z\"/>\n",
              "  </svg>\n",
              "      </button>\n",
              "      \n",
              "  <style>\n",
              "    .colab-df-container {\n",
              "      display:flex;\n",
              "      flex-wrap:wrap;\n",
              "      gap: 12px;\n",
              "    }\n",
              "\n",
              "    .colab-df-convert {\n",
              "      background-color: #E8F0FE;\n",
              "      border: none;\n",
              "      border-radius: 50%;\n",
              "      cursor: pointer;\n",
              "      display: none;\n",
              "      fill: #1967D2;\n",
              "      height: 32px;\n",
              "      padding: 0 0 0 0;\n",
              "      width: 32px;\n",
              "    }\n",
              "\n",
              "    .colab-df-convert:hover {\n",
              "      background-color: #E2EBFA;\n",
              "      box-shadow: 0px 1px 2px rgba(60, 64, 67, 0.3), 0px 1px 3px 1px rgba(60, 64, 67, 0.15);\n",
              "      fill: #174EA6;\n",
              "    }\n",
              "\n",
              "    [theme=dark] .colab-df-convert {\n",
              "      background-color: #3B4455;\n",
              "      fill: #D2E3FC;\n",
              "    }\n",
              "\n",
              "    [theme=dark] .colab-df-convert:hover {\n",
              "      background-color: #434B5C;\n",
              "      box-shadow: 0px 1px 3px 1px rgba(0, 0, 0, 0.15);\n",
              "      filter: drop-shadow(0px 1px 2px rgba(0, 0, 0, 0.3));\n",
              "      fill: #FFFFFF;\n",
              "    }\n",
              "  </style>\n",
              "\n",
              "      <script>\n",
              "        const buttonEl =\n",
              "          document.querySelector('#df-c94f45dc-4ecb-4ad7-8ffc-5e96cde70bcc button.colab-df-convert');\n",
              "        buttonEl.style.display =\n",
              "          google.colab.kernel.accessAllowed ? 'block' : 'none';\n",
              "\n",
              "        async function convertToInteractive(key) {\n",
              "          const element = document.querySelector('#df-c94f45dc-4ecb-4ad7-8ffc-5e96cde70bcc');\n",
              "          const dataTable =\n",
              "            await google.colab.kernel.invokeFunction('convertToInteractive',\n",
              "                                                     [key], {});\n",
              "          if (!dataTable) return;\n",
              "\n",
              "          const docLinkHtml = 'Like what you see? Visit the ' +\n",
              "            '<a target=\"_blank\" href=https://colab.research.google.com/notebooks/data_table.ipynb>data table notebook</a>'\n",
              "            + ' to learn more about interactive tables.';\n",
              "          element.innerHTML = '';\n",
              "          dataTable['output_type'] = 'display_data';\n",
              "          await google.colab.output.renderOutput(dataTable, element);\n",
              "          const docLink = document.createElement('div');\n",
              "          docLink.innerHTML = docLinkHtml;\n",
              "          element.appendChild(docLink);\n",
              "        }\n",
              "      </script>\n",
              "    </div>\n",
              "  </div>\n",
              "  "
            ]
          },
          "metadata": {},
          "execution_count": 6
        }
      ]
    },
    {
      "cell_type": "code",
      "source": [
        "#Definição dos atributos que deverao ser treinados para gerar o modelo de classificacao\n",
        "data_treino = np.array(dados_cryo_treino[['Sexo', 'Idade', 'Tempo', 'Numero_Verrugas', \"Tipo\", \"Area\"]])\n",
        "#Definição do atributo de classificacao\n",
        "data_classif = np.array(dados_cryo_treino['Resultado_Tratamento'])"
      ],
      "metadata": {
        "id": "7AKOz3He2p1f"
      },
      "execution_count": null,
      "outputs": []
    },
    {
      "cell_type": "code",
      "source": [
        "# Identificando a correlação entre as variáveis\n",
        "# Correlação não implica causalidade\n",
        "def plot_corr(dados, size=10):\n",
        "    corr = dados.corr()    \n",
        "    fig, ax = plt.subplots(figsize = (size, size))\n",
        "    ax.matshow(corr)  \n",
        "    plt.xticks(range(len(corr.columns)), corr.columns) \n",
        "    plt.yticks(range(len(corr.columns)), corr.columns) "
      ],
      "metadata": {
        "id": "ZWD-2Fge3Rk4"
      },
      "execution_count": null,
      "outputs": []
    },
    {
      "cell_type": "code",
      "source": [
        "# Criando o gráfico\n",
        "plot_corr(dados_cryo_treino)"
      ],
      "metadata": {
        "colab": {
          "base_uri": "https://localhost:8080/",
          "height": 596
        },
        "id": "9FFTI9bu3Z93",
        "outputId": "b6fc8dbf-5fe4-4133-addf-efb973aeab6b"
      },
      "execution_count": null,
      "outputs": [
        {
          "output_type": "display_data",
          "data": {
            "text/plain": [
              "<Figure size 720x720 with 1 Axes>"
            ],
            "image/png": "[encoded data removed]"
          },
          "metadata": {
            "needs_background": "light"
          }
        }
      ]
    },
    {
      "cell_type": "code",
      "source": [
        "#Definição dos conjuntos de treinamento e validação\n",
        "x_treino, x_val, y_treino, y_val = train_test_split(data_treino, data_classif, test_size=0.30)"
      ],
      "metadata": {
        "id": "x3fJW6Rc3sqf"
      },
      "execution_count": null,
      "outputs": []
    },
    {
      "cell_type": "code",
      "source": [
        "#Apresentacao dos dados selecionados para o conjunto de treinamento e validacao\n",
        "print(\"-----------------------\")\n",
        "print(\"Conjunto de Treinamento\")\n",
        "print(x_treino)\n",
        "print(\"Conjunto de Validacao\")\n",
        "print(x_val)\n",
        "print(\"-----------------------\")"
      ],
      "metadata": {
        "colab": {
          "base_uri": "https://localhost:8080/"
        },
        "id": "BkOBzc8g3wi4",
        "outputId": "1e009bb0-c09e-4152-fbd1-e7c7dd74da9a"
      },
      "execution_count": null,
      "outputs": [
        {
          "output_type": "stream",
          "name": "stdout",
          "text": [
            "-----------------------\n",
            "Conjunto de Treinamento\n",
            "[[  1  20   1   2   1  75]\n",
            " [  2  34  12   3   3  95]\n",
            " [  2  15   2   3   1   4]\n",
            " [  1  24  10  10   1  20]\n",
            " [  1  50   8  11   3 132]\n",
            " [  2  21  10   5   1  35]\n",
            " [  1  29   7   5   1  96]\n",
            " [  1  20   4   3   1   6]\n",
            " [  2  28   4  11   1 100]\n",
            " [  1  35   9   9   1 100]\n",
            " [  1  30   2   2   1 115]\n",
            " [  1  22   5   2   1  70]\n",
            " [  2  36  10   4   1   8]\n",
            " [  1  20   4  12   1   6]\n",
            " [  1  19   8   8   1 160]\n",
            " [  1  40  11   9   2  80]\n",
            " [  2  36  11   6   1   8]\n",
            " [  2  40   8   6   2  80]\n",
            " [  1  27  10   7   1   6]\n",
            " [  2  67  12  12   3  42]\n",
            " [  1  27  10   5   1   6]\n",
            " [  2  22   5   9   1  70]\n",
            " [  2  35  12   5   3 100]\n",
            " [  1  34  12   1   3 150]\n",
            " [  1  20   3  11   1  75]\n",
            " [  1  59   3   3   3  20]\n",
            " [  1  32  11   7   3 750]\n",
            " [  1  50   8   1   3 132]\n",
            " [  2  15   8  12   1  30]\n",
            " [  2  15   1  12   3  70]\n",
            " [  1  23  10   7   3  72]\n",
            " [  2  18   5   1   1  80]\n",
            " [  2  17   3   3   1  63]\n",
            " [  1  63   2   3   3  20]\n",
            " [  2  18   4   8   1  80]\n",
            " [  1  20   5   3   1   6]\n",
            " [  2  40   9   1   2  80]\n",
            " [  2  20   3   6   1  75]\n",
            " [  2  17  11   2   1  10]\n",
            " [  1  34  10   1   3  95]\n",
            " [  1  67   3  11   3  20]\n",
            " [  1  28   4   3   1 100]\n",
            " [  2  16   8   1   2  60]\n",
            " [  1  35   7   2   1 100]\n",
            " [  1  24   9   8   1  20]\n",
            " [  2  35   8   6   3 100]\n",
            " [  2  19   8   6   1 160]\n",
            " [  1  36  11   2   1   8]\n",
            " [  2  22   5   2   1  70]\n",
            " [  1  67   9   1   1  42]\n",
            " [  2  15   3   2   3  70]\n",
            " [  2  27   8   2   1   6]\n",
            " [  1  15   5   5   1   6]\n",
            " [  2  19   8   9   1 160]\n",
            " [  2  15   4   1   1   6]\n",
            " [  2  30   1   8   3 115]\n",
            " [  1  15   2  11   1   4]\n",
            " [  1  67  10   7   1  42]\n",
            " [  1  17   9  12   1  10]\n",
            " [  2  34  11   3   3 150]\n",
            " [  1  16  10   3   2  60]\n",
            " [  2  32  12   4   3 750]\n",
            " [  1  15  10  11   1  30]]\n",
            "Conjunto de Validacao\n",
            "[[  1  17  11   2   1  10]\n",
            " [  1  17   5  10   1  63]\n",
            " [  1  35  12   5   1 100]\n",
            " [  1  15   3   2   1   4]\n",
            " [  2  34  12   3   3  95]\n",
            " [  2  28   5   9   1 100]\n",
            " [  2  41  10   2   2  20]\n",
            " [  2  23  11  12   3  72]\n",
            " [  2  23   9   5   3  72]\n",
            " [  1  34  11   1   3 150]\n",
            " [  1  15   4   7   1   6]\n",
            " [  2  50   9   4   3 132]\n",
            " [  1  17   5   4   1  63]\n",
            " [  2  21  10   7   1  35]\n",
            " [  1  29  11   5   1  96]\n",
            " [  1  30   1  10   1 115]\n",
            " [  1  41   8   2   2  20]\n",
            " [  1  16  11   3   2  60]\n",
            " [  2  21  10   5   1  35]\n",
            " [  1  29   7   6   1  96]\n",
            " [  2  35   8   8   3 100]\n",
            " [  2  24   9   3   3  20]\n",
            " [  2  15   6   2   1  30]\n",
            " [  2  32  12  12   3 750]\n",
            " [  1  18   4   1   1  80]\n",
            " [  2  15   2  10   3  70]\n",
            " [  2  41   7   5   2  20]]\n",
            "-----------------------\n"
          ]
        }
      ]
    },
    {
      "cell_type": "code",
      "source": [
        "# Imprimindo os resultados\n",
        "print(\"{0:0.2f}% nos dados de treino\".format((len(x_treino)/len(dados_cryo_treino.index)) * 100))\n",
        "print(\"{0:0.2f}% nos dados de teste\".format((len(x_val)/len(dados_cryo_treino.index)) * 100))"
      ],
      "metadata": {
        "colab": {
          "base_uri": "https://localhost:8080/"
        },
        "id": "eNccA8ei32LP",
        "outputId": "a3a9f0b2-eff6-49c6-8200-99a3f1b1458d"
      },
      "execution_count": null,
      "outputs": [
        {
          "output_type": "stream",
          "name": "stdout",
          "text": [
            "70.00% nos dados de treino\n",
            "30.00% nos dados de teste\n"
          ]
        }
      ]
    },
    {
      "cell_type": "code",
      "source": [
        "#Treinamento do modelo com os dados atribuidos ao conjunto de treinamento\n",
        "modelo_NB = GaussianNB()\n",
        "modelo_NB.fit(x_treino, y_treino)"
      ],
      "metadata": {
        "colab": {
          "base_uri": "https://localhost:8080/"
        },
        "id": "CYDd8MCD36_v",
        "outputId": "0cd4c8d3-cef5-4f8b-b929-695b0576020b"
      },
      "execution_count": null,
      "outputs": [
        {
          "output_type": "execute_result",
          "data": {
            "text/plain": [
              "GaussianNB()"
            ]
          },
          "metadata": {},
          "execution_count": 13
        }
      ]
    },
    {
      "cell_type": "code",
      "source": [
        "print(\"Predicao para o conjunto de treinamento\")\n",
        "y_pred_treino = modelo_NB.predict(x_treino)\n",
        "print(\"Acuracia para o conjunto de treinamento\")\n",
        "print(accuracy_score(y_treino, y_pred_treino))\n",
        "print(\"Na Base de Treinamento\")"
      ],
      "metadata": {
        "colab": {
          "base_uri": "https://localhost:8080/"
        },
        "id": "JYa-_JgJ38Io",
        "outputId": "a64c8bd2-35e4-46f1-9541-98a285c36109"
      },
      "execution_count": null,
      "outputs": [
        {
          "output_type": "stream",
          "name": "stdout",
          "text": [
            "Predicao para o conjunto de treinamento\n",
            "Acuracia para o conjunto de treinamento\n",
            "0.8888888888888888\n",
            "Na Base de Treinamento\n"
          ]
        }
      ]
    },
    {
      "cell_type": "code",
      "source": [
        "#Predição e acurácia para o conjunto de validação\n",
        "print(\"Predicao para o conjunto de validacao\")\n",
        "y_pred_val = modelo_NB.predict(x_val)\n",
        "print(\"Acuracia para o conjunto de validacao\")\n",
        "print(accuracy_score(y_val, y_pred_val))\n",
        "print(\"na Base de Teste\")"
      ],
      "metadata": {
        "colab": {
          "base_uri": "https://localhost:8080/"
        },
        "id": "nidGgmF_3_nv",
        "outputId": "3ef39ebf-4936-4363-ade5-d4e519b5f0d6"
      },
      "execution_count": null,
      "outputs": [
        {
          "output_type": "stream",
          "name": "stdout",
          "text": [
            "Predicao para o conjunto de validacao\n",
            "Acuracia para o conjunto de validacao\n",
            "0.7407407407407407\n",
            "na Base de Teste\n"
          ]
        }
      ]
    },
    {
      "cell_type": "code",
      "source": [
        "from sklearn import metrics"
      ],
      "metadata": {
        "id": "q9bziQh-4Fvn"
      },
      "execution_count": null,
      "outputs": []
    },
    {
      "cell_type": "code",
      "source": [
        "# Criando uma Confusion Matrix\n",
        "print(\"Confusion Matrix\")\n",
        "\n",
        "print(\"{0}\".format(metrics.confusion_matrix(y_val, y_pred_val, labels = [1, 0])))\n",
        "print(\"\")\n",
        "\n",
        "print(\"Classification Report\")\n",
        "print(metrics.classification_report(y_val, y_pred_val, labels = [1, 0]))"
      ],
      "metadata": {
        "colab": {
          "base_uri": "https://localhost:8080/"
        },
        "id": "mWsrg8Ir4JY2",
        "outputId": "ea97604b-82fd-4199-88db-8154d0957d7c"
      },
      "execution_count": null,
      "outputs": [
        {
          "output_type": "stream",
          "name": "stdout",
          "text": [
            "Confusion Matrix\n",
            "[[11  3]\n",
            " [ 4  9]]\n",
            "\n",
            "Classification Report\n",
            "              precision    recall  f1-score   support\n",
            "\n",
            "           1       0.73      0.79      0.76        14\n",
            "           0       0.75      0.69      0.72        13\n",
            "\n",
            "    accuracy                           0.74        27\n",
            "   macro avg       0.74      0.74      0.74        27\n",
            "weighted avg       0.74      0.74      0.74        27\n",
            "\n"
          ]
        }
      ]
    },
    {
      "cell_type": "code",
      "source": [
        "import joblib\n",
        "\n",
        "joblib.dump(modelo_NB, 'modelo_cryo_MNB.pkl')"
      ],
      "metadata": {
        "colab": {
          "base_uri": "https://localhost:8080/"
        },
        "id": "FASPIbzl4Ovn",
        "outputId": "353065cf-a38d-48e7-f2f3-b10927c4cac3"
      },
      "execution_count": null,
      "outputs": [
        {
          "output_type": "execute_result",
          "data": {
            "text/plain": [
              "['modelo_cryo_MNB.pkl']"
            ]
          },
          "metadata": {},
          "execution_count": 18
        }
      ]
    }
  ]
}